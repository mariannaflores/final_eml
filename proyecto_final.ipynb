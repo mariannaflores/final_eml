{
  "nbformat": 4,
  "nbformat_minor": 5,
  "metadata": {
    "kernelspec": {
      "name": "python391jvsc74a57bd0af698c02722c81864863429d928a3bd8a8dcc030c4156359d3ef8b980fb01319",
      "display_name": "Python 3.9.1 64-bit"
    },
    "language_info": {
      "codemirror_mode": {
        "name": "ipython",
        "version": 3
      },
      "file_extension": ".py",
      "mimetype": "text/x-python",
      "name": "python",
      "nbconvert_exporter": "python",
      "pygments_lexer": "ipython3",
      "version": "3.9.1"
    },
    "metadata": {
      "interpreter": {
        "hash": "af698c02722c81864863429d928a3bd8a8dcc030c4156359d3ef8b980fb01319"
      }
    },
    "colab": {
      "name": "proyecto_final.ipynb",
      "provenance": [],
      "include_colab_link": true
    }
  },
  "cells": [
    {
      "cell_type": "markdown",
      "metadata": {
        "id": "view-in-github",
        "colab_type": "text"
      },
      "source": [
        "<a href=\"https://colab.research.google.com/github/mariannaflores/final_eml/blob/main/proyecto_final.ipynb\" target=\"_parent\"><img src=\"https://colab.research.google.com/assets/colab-badge.svg\" alt=\"Open In Colab\"/></a>"
      ]
    },
    {
      "cell_type": "markdown",
      "metadata": {
        "id": "needed-document"
      },
      "source": [
        "Proyecto Final - Machine Learning Models\n",
        "## MODELO DE PREDICCION DE NOMBRE SEGUN COLOR DE PINTURA DE UNAS"
      ],
      "id": "needed-document"
    },
    {
      "cell_type": "markdown",
      "metadata": {
        "id": "RTiObpCiq7vu"
      },
      "source": [
        "**NECESIDAD:** Usualmente a uno le gusta usar pinturas de uñas de colores similares o cierta gama particular, pero es altamente complicado pues los nombres parecen no tener sentido o relacion con el color.\n",
        "\n",
        "**OBJETIVO PROYECTO:** Desarrollar un sistema de recomendacion que al ingresar una categoria o rama de colores recomiende los mas populares o los mas similares a el color.\n",
        "\n",
        "**METODOLOGIA:** Uso de redes neurales para optimizar las relaciones entre los datos de los colores, que suelen ser muy complejos y desarrollar dos modelos.\n",
        "  1. Recomendacion por popularidad de color   2. Recomendacion por codigo de color."
      ],
      "id": "RTiObpCiq7vu"
    },
    {
      "cell_type": "markdown",
      "metadata": {
        "id": "endangered-occurrence"
      },
      "source": [
        "#### LIBRERIAS"
      ],
      "id": "endangered-occurrence"
    },
    {
      "cell_type": "code",
      "metadata": {
        "colab": {
          "base_uri": "https://localhost:8080/"
        },
        "id": "ZOk9Uh_OBa9Q",
        "outputId": "109b6c54-5f54-4a4f-b24a-6532e2e89710"
      },
      "source": [
        "pip install category_encoders"
      ],
      "id": "ZOk9Uh_OBa9Q",
      "execution_count": 1,
      "outputs": [
        {
          "output_type": "stream",
          "text": [
            "Requirement already satisfied: category_encoders in /usr/local/lib/python3.7/dist-packages (2.2.2)\n",
            "Requirement already satisfied: pandas>=0.21.1 in /usr/local/lib/python3.7/dist-packages (from category_encoders) (1.1.5)\n",
            "Requirement already satisfied: scipy>=1.0.0 in /usr/local/lib/python3.7/dist-packages (from category_encoders) (1.4.1)\n",
            "Requirement already satisfied: patsy>=0.5.1 in /usr/local/lib/python3.7/dist-packages (from category_encoders) (0.5.1)\n",
            "Requirement already satisfied: numpy>=1.14.0 in /usr/local/lib/python3.7/dist-packages (from category_encoders) (1.19.5)\n",
            "Requirement already satisfied: scikit-learn>=0.20.0 in /usr/local/lib/python3.7/dist-packages (from category_encoders) (0.22.2.post1)\n",
            "Requirement already satisfied: statsmodels>=0.9.0 in /usr/local/lib/python3.7/dist-packages (from category_encoders) (0.10.2)\n",
            "Requirement already satisfied: pytz>=2017.2 in /usr/local/lib/python3.7/dist-packages (from pandas>=0.21.1->category_encoders) (2018.9)\n",
            "Requirement already satisfied: python-dateutil>=2.7.3 in /usr/local/lib/python3.7/dist-packages (from pandas>=0.21.1->category_encoders) (2.8.1)\n",
            "Requirement already satisfied: six in /usr/local/lib/python3.7/dist-packages (from patsy>=0.5.1->category_encoders) (1.15.0)\n",
            "Requirement already satisfied: joblib>=0.11 in /usr/local/lib/python3.7/dist-packages (from scikit-learn>=0.20.0->category_encoders) (1.0.1)\n"
          ],
          "name": "stdout"
        }
      ]
    },
    {
      "cell_type": "code",
      "metadata": {
        "id": "looking-hartford"
      },
      "source": [
        "import pandas as pd\n",
        "import numpy as np\n",
        "import matplotlib.pyplot as plt\n",
        "%matplotlib inline\n",
        "import warnings\n",
        "warnings.filterwarnings('ignore')\n",
        "\n",
        "#Preparacion de variables\n",
        "import category_encoders as ce\n",
        "from sklearn.preprocessing import LabelEncoder\n",
        "from sklearn.preprocessing import StandardScaler\n",
        "from sklearn.impute import SimpleImputer\n",
        "from sklearn.preprocessing import OneHotEncoder\n",
        "\n",
        "#Modelos de neural networks\n",
        "from keras.models import Model\n",
        "from keras.layers import Input, Reshape, Dot\n",
        "from keras.layers.embeddings import Embedding\n",
        "from keras.optimizers import Adam\n",
        "from keras.regularizers import l2\n",
        "from tensorflow import keras\n",
        "from tensorflow.keras import layers\n",
        "import tensorflow as tf"
      ],
      "id": "looking-hartford",
      "execution_count": 2,
      "outputs": []
    },
    {
      "cell_type": "markdown",
      "metadata": {
        "id": "curious-karen"
      },
      "source": [
        "### UPLOAD DATASET"
      ],
      "id": "curious-karen"
    },
    {
      "cell_type": "code",
      "metadata": {
        "colab": {
          "resources": {
            "http://localhost:8080/nbextensions/google.colab/files.js": {
              "data": "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",
              "ok": true,
              "headers": [
                [
                  "content-type",
                  "application/javascript"
                ]
              ],
              "status": 200,
              "status_text": ""
            }
          },
          "base_uri": "https://localhost:8080/",
          "height": 73
        },
        "id": "bibliographic-stocks",
        "outputId": "3a156595-80ab-462e-b6b4-375539a7382e"
      },
      "source": [
        "#df = pd.read_csv('/Users/maria/OneDrive/Documentos/mle_laboratorios/Final/final_eml/dataset.csv')\n",
        "#df.head()\n",
        "\n",
        "from google.colab import files\n",
        "uploaded = files.upload()"
      ],
      "id": "bibliographic-stocks",
      "execution_count": 3,
      "outputs": [
        {
          "output_type": "display_data",
          "data": {
            "text/html": [
              "\n",
              "     <input type=\"file\" id=\"files-9daa643d-bfec-4be9-ad79-a0a6c4c47fef\" name=\"files[]\" multiple disabled\n",
              "        style=\"border:none\" />\n",
              "     <output id=\"result-9daa643d-bfec-4be9-ad79-a0a6c4c47fef\">\n",
              "      Upload widget is only available when the cell has been executed in the\n",
              "      current browser session. Please rerun this cell to enable.\n",
              "      </output>\n",
              "      <script src=\"/nbextensions/google.colab/files.js\"></script> "
            ],
            "text/plain": [
              "<IPython.core.display.HTML object>"
            ]
          },
          "metadata": {
            "tags": []
          }
        },
        {
          "output_type": "stream",
          "text": [
            "Saving dataset.csv to dataset (5).csv\n"
          ],
          "name": "stdout"
        }
      ]
    },
    {
      "cell_type": "code",
      "metadata": {
        "id": "Z4s_Ay_yAHTZ",
        "colab": {
          "base_uri": "https://localhost:8080/",
          "height": 198
        },
        "outputId": "524a1ada-21bc-453d-a3bd-d1f617ab5eef"
      },
      "source": [
        "import io\n",
        "df = pd.read_csv(io.BytesIO(uploaded['dataset.csv']))\n",
        "df.head()"
      ],
      "id": "Z4s_Ay_yAHTZ",
      "execution_count": 4,
      "outputs": [
        {
          "output_type": "execute_result",
          "data": {
            "text/html": [
              "<div>\n",
              "<style scoped>\n",
              "    .dataframe tbody tr th:only-of-type {\n",
              "        vertical-align: middle;\n",
              "    }\n",
              "\n",
              "    .dataframe tbody tr th {\n",
              "        vertical-align: top;\n",
              "    }\n",
              "\n",
              "    .dataframe thead th {\n",
              "        text-align: right;\n",
              "    }\n",
              "</style>\n",
              "<table border=\"1\" class=\"dataframe\">\n",
              "  <thead>\n",
              "    <tr style=\"text-align: right;\">\n",
              "      <th></th>\n",
              "      <th>name</th>\n",
              "      <th>type</th>\n",
              "      <th>score</th>\n",
              "      <th>raitings</th>\n",
              "      <th>hex</th>\n",
              "      <th>rgb</th>\n",
              "      <th>category</th>\n",
              "      <th>marca</th>\n",
              "    </tr>\n",
              "  </thead>\n",
              "  <tbody>\n",
              "    <tr>\n",
              "      <th>0</th>\n",
              "      <td>sheer luck</td>\n",
              "      <td>classic</td>\n",
              "      <td>5.0</td>\n",
              "      <td>3.0</td>\n",
              "      <td>#f4e1e8</td>\n",
              "      <td>rgb(244,225,225)</td>\n",
              "      <td>sheers</td>\n",
              "      <td>essie</td>\n",
              "    </tr>\n",
              "    <tr>\n",
              "      <th>1</th>\n",
              "      <td>always transparent</td>\n",
              "      <td>exprclassic</td>\n",
              "      <td>0.0</td>\n",
              "      <td>0.0</td>\n",
              "      <td>#fafbf8</td>\n",
              "      <td>rgb(250,251,251)</td>\n",
              "      <td>sheers</td>\n",
              "      <td>essie</td>\n",
              "    </tr>\n",
              "    <tr>\n",
              "      <th>2</th>\n",
              "      <td>tuck it in my tux</td>\n",
              "      <td>classic</td>\n",
              "      <td>3.4</td>\n",
              "      <td>15.0</td>\n",
              "      <td>#f5f1ee</td>\n",
              "      <td>rgb(245,241,241)</td>\n",
              "      <td>sheers</td>\n",
              "      <td>essie</td>\n",
              "    </tr>\n",
              "    <tr>\n",
              "      <th>3</th>\n",
              "      <td>desk mani</td>\n",
              "      <td>exprclassic</td>\n",
              "      <td>0.0</td>\n",
              "      <td>0.0</td>\n",
              "      <td>#f78963</td>\n",
              "      <td>rgb(247,137,137)</td>\n",
              "      <td>sheers</td>\n",
              "      <td>essie</td>\n",
              "    </tr>\n",
              "    <tr>\n",
              "      <th>4</th>\n",
              "      <td>marshmallow</td>\n",
              "      <td>classic</td>\n",
              "      <td>4.4</td>\n",
              "      <td>83.0</td>\n",
              "      <td>#f1e6e3</td>\n",
              "      <td>rgb(240,228,228)</td>\n",
              "      <td>sheers</td>\n",
              "      <td>essie</td>\n",
              "    </tr>\n",
              "  </tbody>\n",
              "</table>\n",
              "</div>"
            ],
            "text/plain": [
              "                 name         type  score  ...               rgb category  marca\n",
              "0          sheer luck      classic    5.0  ...  rgb(244,225,225)   sheers  essie\n",
              "1  always transparent  exprclassic    0.0  ...  rgb(250,251,251)   sheers  essie\n",
              "2   tuck it in my tux      classic    3.4  ...  rgb(245,241,241)   sheers  essie\n",
              "3           desk mani  exprclassic    0.0  ...  rgb(247,137,137)   sheers  essie\n",
              "4         marshmallow      classic    4.4  ...  rgb(240,228,228)   sheers  essie\n",
              "\n",
              "[5 rows x 8 columns]"
            ]
          },
          "metadata": {
            "tags": []
          },
          "execution_count": 4
        }
      ]
    },
    {
      "cell_type": "markdown",
      "metadata": {
        "id": "KdeLEiaAzY1a"
      },
      "source": [
        "Se separa categoria y marca para agregar a la matriz de recomendacion despues"
      ],
      "id": "KdeLEiaAzY1a"
    },
    {
      "cell_type": "code",
      "metadata": {
        "id": "eMcMLvFSo4Af"
      },
      "source": [
        "categ = df[['category','marca']]"
      ],
      "id": "eMcMLvFSo4Af",
      "execution_count": 5,
      "outputs": []
    },
    {
      "cell_type": "markdown",
      "metadata": {
        "id": "_NgrlMx_z8ZR"
      },
      "source": [
        "### PREPROCESADO"
      ],
      "id": "_NgrlMx_z8ZR"
    },
    {
      "cell_type": "markdown",
      "metadata": {
        "id": "ideal-indianapolis"
      },
      "source": [
        "#### PREPARACION COLUMNA CODIGO RGB"
      ],
      "id": "ideal-indianapolis"
    },
    {
      "cell_type": "markdown",
      "metadata": {
        "id": "jK9iIRG-zwB4"
      },
      "source": [
        "La columna de rgb tiene que procesarse separando por cada componente de color (red, green, blue)"
      ],
      "id": "jK9iIRG-zwB4"
    },
    {
      "cell_type": "code",
      "metadata": {
        "colab": {
          "base_uri": "https://localhost:8080/",
          "height": 198
        },
        "id": "collected-portland",
        "outputId": "e2f3f905-3a5b-4527-b02d-fb939d0020b1"
      },
      "source": [
        "codigo = df[\"rgb\"]\n",
        "\n",
        "remove = ['rgb']\n",
        "remove2 = ['(']\n",
        "remove3 = [')']\n",
        "\n",
        "for i in remove:\n",
        "    s1 = codigo.str.replace(i, '')\n",
        "\n",
        "for j in remove2:\n",
        "    s2 = s1.str.replace(j, '')\n",
        "\n",
        "\n",
        "for k in remove3:\n",
        "    s3 = s2.str.replace(k, '')\n",
        "\n",
        "colores = s3.str.split(\",\", n = 2, expand = True)\n",
        "colores.head()"
      ],
      "id": "collected-portland",
      "execution_count": 6,
      "outputs": [
        {
          "output_type": "execute_result",
          "data": {
            "text/html": [
              "<div>\n",
              "<style scoped>\n",
              "    .dataframe tbody tr th:only-of-type {\n",
              "        vertical-align: middle;\n",
              "    }\n",
              "\n",
              "    .dataframe tbody tr th {\n",
              "        vertical-align: top;\n",
              "    }\n",
              "\n",
              "    .dataframe thead th {\n",
              "        text-align: right;\n",
              "    }\n",
              "</style>\n",
              "<table border=\"1\" class=\"dataframe\">\n",
              "  <thead>\n",
              "    <tr style=\"text-align: right;\">\n",
              "      <th></th>\n",
              "      <th>0</th>\n",
              "      <th>1</th>\n",
              "      <th>2</th>\n",
              "    </tr>\n",
              "  </thead>\n",
              "  <tbody>\n",
              "    <tr>\n",
              "      <th>0</th>\n",
              "      <td>244</td>\n",
              "      <td>225</td>\n",
              "      <td>225</td>\n",
              "    </tr>\n",
              "    <tr>\n",
              "      <th>1</th>\n",
              "      <td>250</td>\n",
              "      <td>251</td>\n",
              "      <td>251</td>\n",
              "    </tr>\n",
              "    <tr>\n",
              "      <th>2</th>\n",
              "      <td>245</td>\n",
              "      <td>241</td>\n",
              "      <td>241</td>\n",
              "    </tr>\n",
              "    <tr>\n",
              "      <th>3</th>\n",
              "      <td>247</td>\n",
              "      <td>137</td>\n",
              "      <td>137</td>\n",
              "    </tr>\n",
              "    <tr>\n",
              "      <th>4</th>\n",
              "      <td>240</td>\n",
              "      <td>228</td>\n",
              "      <td>228</td>\n",
              "    </tr>\n",
              "  </tbody>\n",
              "</table>\n",
              "</div>"
            ],
            "text/plain": [
              "     0    1    2\n",
              "0  244  225  225\n",
              "1  250  251  251\n",
              "2  245  241  241\n",
              "3  247  137  137\n",
              "4  240  228  228"
            ]
          },
          "metadata": {
            "tags": []
          },
          "execution_count": 6
        }
      ]
    },
    {
      "cell_type": "code",
      "metadata": {
        "id": "continued-chart"
      },
      "source": [
        "df = df.drop(['rgb'], axis=1)\n",
        "df = pd.concat([df, colores], axis=1)\n",
        "df = df.rename({0:\"r\", 1:\"g\", 2:\"b\"}, axis='columns')"
      ],
      "id": "continued-chart",
      "execution_count": 7,
      "outputs": []
    },
    {
      "cell_type": "markdown",
      "metadata": {
        "id": "2aLz1i1B0wW5"
      },
      "source": [
        "Se agrega indice para identificar cada pintura de uñas en el analisis de la red neuronal"
      ],
      "id": "2aLz1i1B0wW5"
    },
    {
      "cell_type": "code",
      "metadata": {
        "id": "early-nursing"
      },
      "source": [
        "df['index'] = df.index"
      ],
      "id": "early-nursing",
      "execution_count": 8,
      "outputs": []
    },
    {
      "cell_type": "markdown",
      "metadata": {
        "id": "regional-national"
      },
      "source": [
        "#### ENCODING VARIABLES CATEGORICAS"
      ],
      "id": "regional-national"
    },
    {
      "cell_type": "markdown",
      "metadata": {
        "id": "SsOEdoqT1bs2"
      },
      "source": [
        "Se emplea *encoding ordinal* para mantener una sola columna con los valores de cada columna"
      ],
      "id": "SsOEdoqT1bs2"
    },
    {
      "cell_type": "code",
      "metadata": {
        "colab": {
          "base_uri": "https://localhost:8080/",
          "height": 198
        },
        "id": "cognitive-trunk",
        "outputId": "9bcc126c-5b51-4aa8-ff53-bfcbb6f91971"
      },
      "source": [
        "ce_ord = ce.OrdinalEncoder(cols = ['type', 'category', 'marca'])\n",
        "df = ce_ord.fit_transform(df)\n",
        "df.head()"
      ],
      "id": "cognitive-trunk",
      "execution_count": 9,
      "outputs": [
        {
          "output_type": "execute_result",
          "data": {
            "text/html": [
              "<div>\n",
              "<style scoped>\n",
              "    .dataframe tbody tr th:only-of-type {\n",
              "        vertical-align: middle;\n",
              "    }\n",
              "\n",
              "    .dataframe tbody tr th {\n",
              "        vertical-align: top;\n",
              "    }\n",
              "\n",
              "    .dataframe thead th {\n",
              "        text-align: right;\n",
              "    }\n",
              "</style>\n",
              "<table border=\"1\" class=\"dataframe\">\n",
              "  <thead>\n",
              "    <tr style=\"text-align: right;\">\n",
              "      <th></th>\n",
              "      <th>name</th>\n",
              "      <th>type</th>\n",
              "      <th>score</th>\n",
              "      <th>raitings</th>\n",
              "      <th>hex</th>\n",
              "      <th>category</th>\n",
              "      <th>marca</th>\n",
              "      <th>r</th>\n",
              "      <th>g</th>\n",
              "      <th>b</th>\n",
              "      <th>index</th>\n",
              "    </tr>\n",
              "  </thead>\n",
              "  <tbody>\n",
              "    <tr>\n",
              "      <th>0</th>\n",
              "      <td>sheer luck</td>\n",
              "      <td>1</td>\n",
              "      <td>5.0</td>\n",
              "      <td>3.0</td>\n",
              "      <td>#f4e1e8</td>\n",
              "      <td>1</td>\n",
              "      <td>1</td>\n",
              "      <td>244</td>\n",
              "      <td>225</td>\n",
              "      <td>225</td>\n",
              "      <td>0</td>\n",
              "    </tr>\n",
              "    <tr>\n",
              "      <th>1</th>\n",
              "      <td>always transparent</td>\n",
              "      <td>2</td>\n",
              "      <td>0.0</td>\n",
              "      <td>0.0</td>\n",
              "      <td>#fafbf8</td>\n",
              "      <td>1</td>\n",
              "      <td>1</td>\n",
              "      <td>250</td>\n",
              "      <td>251</td>\n",
              "      <td>251</td>\n",
              "      <td>1</td>\n",
              "    </tr>\n",
              "    <tr>\n",
              "      <th>2</th>\n",
              "      <td>tuck it in my tux</td>\n",
              "      <td>1</td>\n",
              "      <td>3.4</td>\n",
              "      <td>15.0</td>\n",
              "      <td>#f5f1ee</td>\n",
              "      <td>1</td>\n",
              "      <td>1</td>\n",
              "      <td>245</td>\n",
              "      <td>241</td>\n",
              "      <td>241</td>\n",
              "      <td>2</td>\n",
              "    </tr>\n",
              "    <tr>\n",
              "      <th>3</th>\n",
              "      <td>desk mani</td>\n",
              "      <td>2</td>\n",
              "      <td>0.0</td>\n",
              "      <td>0.0</td>\n",
              "      <td>#f78963</td>\n",
              "      <td>1</td>\n",
              "      <td>1</td>\n",
              "      <td>247</td>\n",
              "      <td>137</td>\n",
              "      <td>137</td>\n",
              "      <td>3</td>\n",
              "    </tr>\n",
              "    <tr>\n",
              "      <th>4</th>\n",
              "      <td>marshmallow</td>\n",
              "      <td>1</td>\n",
              "      <td>4.4</td>\n",
              "      <td>83.0</td>\n",
              "      <td>#f1e6e3</td>\n",
              "      <td>1</td>\n",
              "      <td>1</td>\n",
              "      <td>240</td>\n",
              "      <td>228</td>\n",
              "      <td>228</td>\n",
              "      <td>4</td>\n",
              "    </tr>\n",
              "  </tbody>\n",
              "</table>\n",
              "</div>"
            ],
            "text/plain": [
              "                 name  type  score  raitings  ...    r    g    b index\n",
              "0          sheer luck     1    5.0       3.0  ...  244  225  225     0\n",
              "1  always transparent     2    0.0       0.0  ...  250  251  251     1\n",
              "2   tuck it in my tux     1    3.4      15.0  ...  245  241  241     2\n",
              "3           desk mani     2    0.0       0.0  ...  247  137  137     3\n",
              "4         marshmallow     1    4.4      83.0  ...  240  228  228     4\n",
              "\n",
              "[5 rows x 11 columns]"
            ]
          },
          "metadata": {
            "tags": []
          },
          "execution_count": 9
        }
      ]
    },
    {
      "cell_type": "markdown",
      "metadata": {
        "id": "suited-click"
      },
      "source": [
        "### PESOS PARA VALUAR MATRIZ POR RATING Y POR COLOR"
      ],
      "id": "suited-click"
    },
    {
      "cell_type": "markdown",
      "metadata": {
        "id": "jmVSpd0e14A4"
      },
      "source": [
        "Para poder medir tanto en ratings como por color es necesario establecer una metrica.\n",
        "Se definieron dos modelos segun la informacion obtenida en el dataset:\n",
        "1. **Ratings:** las paginas web de pinturas de uñas tenian ratings de usuarios previos que se usaron como metodo de medicion para recomendar nuevas pinturas de uñas de distintas categorias\n",
        "2. **Codigo de color:** El codigo de color como tal es muy extenso y complejo para analizar, por ende se realizo una metrica compuesto de los 3 colores.\n",
        "Ecuacion: rrr + ggg00 + bbb0000, los colores mas rojos seran mas pequeños y entre mas azules mas grandes."
      ],
      "id": "jmVSpd0e14A4"
    },
    {
      "cell_type": "code",
      "metadata": {
        "id": "grave-twist"
      },
      "source": [
        "#pesos de ratings por clientes y colores de pintura\n",
        "m=df['raitings'].quantile(0.9)\n",
        "C=df['score'].mean()\n",
        "\n",
        "def peso_scores(x, m=m, C=C):\n",
        "    v = x['raitings']\n",
        "    R = x['score']\n",
        "    return (v/(v+m) * R) + (m/(m+v) * C)\n",
        "\n",
        "df['weight'] = df.apply(peso_scores, axis=1)"
      ],
      "id": "grave-twist",
      "execution_count": 10,
      "outputs": []
    },
    {
      "cell_type": "code",
      "metadata": {
        "id": "reliable-simulation"
      },
      "source": [
        "#metrica de cada color por presencia de colores\n",
        "df['r'] = df['r'].astype(int)\n",
        "df['g'] = df['g'].astype(int)\n",
        "df['b'] = df['b'].astype(int)\n",
        "\n",
        "df['color'] = df['r'] + df['g']*100 + df['b']*10000"
      ],
      "id": "reliable-simulation",
      "execution_count": 11,
      "outputs": []
    },
    {
      "cell_type": "markdown",
      "metadata": {
        "id": "g1WzcL9g_z9R"
      },
      "source": [
        "### SEPARACION DE VARIABLES X Y Y "
      ],
      "id": "g1WzcL9g_z9R"
    },
    {
      "cell_type": "markdown",
      "metadata": {
        "id": "15JwX65c3uLe"
      },
      "source": [
        "Se separaron las variables dos veces por los dos modelos empleados, uno con peso de ratings y otro con codigo de color.\n",
        "> Se normalizo la variable \"y\" con datos entre 0 y 1 para el entrenamiento\n"
      ],
      "id": "15JwX65c3uLe"
    },
    {
      "cell_type": "code",
      "metadata": {
        "id": "0SHf-sIw30k8"
      },
      "source": [
        "min1 = min(df[\"weight\"])\n",
        "max1 = max(df[\"weight\"])\n",
        "\n",
        "x1 = df[[\"category\", \"index\"]].values\n",
        "y1 = df[\"weight\"].apply(lambda x: (x - min1) / (max1 - min1)).values\n",
        "\n",
        "x_train1, x_cv1, x_test1 = np.split(x1, \n",
        "                       [int(.3333*len(x1)), int(.6666*len(x1))])\n",
        "y_train1, y_cv1, y_test1 = np.split(y1, \n",
        "                       [int(.3333*len(y1)), int(.666*len(y1))])\n",
        "\n",
        "y_test1 = y_test1[0:336]\n",
        "x_cv1 = x_cv1[0:336]\n",
        "x_test1 = x_test1[0:336]"
      ],
      "id": "0SHf-sIw30k8",
      "execution_count": 12,
      "outputs": []
    },
    {
      "cell_type": "code",
      "metadata": {
        "id": "gTkq2K1at8Xm"
      },
      "source": [
        "min2 = min(df[\"color\"])\n",
        "max2 = max(df[\"color\"])\n",
        "\n",
        "x2 = df[[\"category\", \"index\"]].values\n",
        "y2 = df[\"color\"].apply(lambda x: (x - min2) / (max2 - min2)).values\n",
        "\n",
        "x_train2, x_cv2, x_test2 = np.split(x2, \n",
        "                       [int(.3333*len(x2)), int(.6666*len(x2))])\n",
        "y_train2, y_cv2, y_test2 = np.split(y2, \n",
        "                       [int(.3333*len(y2)), int(.666*len(y2))])\n",
        "\n",
        "y_test2 = y_test2[0:336]\n",
        "x_cv2 = x_cv2[0:336]\n",
        "x_test2 = x_test2[0:336]"
      ],
      "id": "gTkq2K1at8Xm",
      "execution_count": 13,
      "outputs": []
    },
    {
      "cell_type": "markdown",
      "metadata": {
        "id": "xJlGtSoA_z9T"
      },
      "source": [
        "### PREPARACION MATRICES MODELOS"
      ],
      "id": "xJlGtSoA_z9T"
    },
    {
      "cell_type": "code",
      "metadata": {
        "id": "eLsfx-Np999z"
      },
      "source": [
        "categoria = df['category'].nunique()+1\n",
        "pinturas = df['index'].nunique()"
      ],
      "id": "eLsfx-Np999z",
      "execution_count": 14,
      "outputs": []
    },
    {
      "cell_type": "code",
      "metadata": {
        "id": "xadwZwNMaaaX"
      },
      "source": [
        "df1 = df[['category','index','weight']] #para modelo1\n",
        "df2 = df[['category', 'index', 'color']] #para modelo2\n",
        "info_np = df[['index','name']] \n",
        "info_np = pd.concat([info_np, categ], axis = 1) #matriz con informacion por item"
      ],
      "id": "xadwZwNMaaaX",
      "execution_count": 15,
      "outputs": []
    },
    {
      "cell_type": "code",
      "metadata": {
        "id": "QbXJTmPTbpgb"
      },
      "source": [
        "user_ids = df1[\"category\"].unique().tolist()\n",
        "user2user_encoded = {x: i for i, x in enumerate(user_ids)}\n",
        "userencoded2user = {i: x for i, x in enumerate(user_ids)}\n",
        "\n",
        "items_ids = df1[\"index\"].unique().tolist()\n",
        "item2item_encoded = {x: i for i, x in enumerate(items_ids)}\n",
        "item_encoded2item = {i: x for i, x in enumerate(items_ids)}"
      ],
      "id": "QbXJTmPTbpgb",
      "execution_count": 16,
      "outputs": []
    },
    {
      "cell_type": "markdown",
      "metadata": {
        "id": "9c83GV2bYkVl"
      },
      "source": [
        "### FUNCIONES REDES NEURALES"
      ],
      "id": "9c83GV2bYkVl"
    },
    {
      "cell_type": "markdown",
      "metadata": {
        "id": "BuivE2qB5IKc"
      },
      "source": [
        "\n",
        "*   **Funcion activacion - sigmoide:** sigmoid(x) = 1 / (1 + exp(-x))\n",
        "*   **Loss - mean_squared_error:** cantidad que el modelo debe minimizar en training. Este encuentra el cuadrado de la diferencia entre el las predicciones y observaciones reales.\n",
        "*   **Optimizer - Adam:** algoritmo optimizador de stochastic gradient descent.\n",
        "*   **Bias:** constante de input\n",
        "\n"
      ],
      "id": "BuivE2qB5IKc"
    },
    {
      "cell_type": "code",
      "metadata": {
        "id": "FxzFq0-xmaFt"
      },
      "source": [
        "class RecommenderNet(keras.Model):\n",
        "    def __init__(self, usuario, items, embedding_size, **kwargs):\n",
        "        super(RecommenderNet, self).__init__(**kwargs)\n",
        "        self.usuario = usuario\n",
        "        self.items = items\n",
        "        self.embedding_size = embedding_size\n",
        "        self.user_embedding = layers.Embedding(\n",
        "            usuario,\n",
        "            embedding_size,\n",
        "            embeddings_initializer=\"he_normal\",\n",
        "            embeddings_regularizer=keras.regularizers.l2(1e-6),\n",
        "        )\n",
        "        self.user_bias = layers.Embedding(usuario, 1)\n",
        "        self.item_embedding = layers.Embedding(\n",
        "            items,\n",
        "            embedding_size,\n",
        "            embeddings_initializer=\"he_normal\",\n",
        "            embeddings_regularizer=keras.regularizers.l2(1e-6),\n",
        "        )\n",
        "        self.item_bias = layers.Embedding(items, 1)\n",
        "\n",
        "    def call(self, inputs):\n",
        "        user_bias = self.user_bias(inputs[:, 0])\n",
        "        item_bias = self.item_bias(inputs[:, 1])\n",
        "        user_vector = self.user_embedding(inputs[:, 0])\n",
        "        item_vector = self.item_embedding(inputs[:, 1])\n",
        "        prod_punto = tf.tensordot(user_vector, item_vector, 2)\n",
        "        x = prod_punto + user_bias + item_bias\n",
        "        x = Activation('sigmoid')(x)\n",
        "        return (x)\n"
      ],
      "id": "FxzFq0-xmaFt",
      "execution_count": 17,
      "outputs": []
    },
    {
      "cell_type": "code",
      "metadata": {
        "id": "0VDxSLT7m-rA"
      },
      "source": [
        "model = RecommenderNet(categoria, pinturas, 50)\n",
        "model.compile(\n",
        "    loss='mean_squared_error', optimizer=Adam(lr=0.001)\n",
        ")"
      ],
      "id": "0VDxSLT7m-rA",
      "execution_count": 18,
      "outputs": []
    },
    {
      "cell_type": "markdown",
      "metadata": {
        "id": "K6N0RcsYYzp-"
      },
      "source": [
        "### MODELO 1 - SISTEMA DE RECOMENDACION BASADO EN CATEGORIAS DE COLORES"
      ],
      "id": "K6N0RcsYYzp-"
    },
    {
      "cell_type": "code",
      "metadata": {
        "colab": {
          "base_uri": "https://localhost:8080/"
        },
        "id": "5yQXKkfBnItM",
        "outputId": "3ca3f257-e8f4-445d-ff1a-5456b5370679"
      },
      "source": [
        "history = model.fit(\n",
        "    x=x_train1,\n",
        "    y=y_train1,\n",
        "    batch_size=10,\n",
        "    epochs=50,\n",
        "    verbose=1,\n",
        "    validation_data=(x_cv1, y_cv1),\n",
        ")"
      ],
      "id": "5yQXKkfBnItM",
      "execution_count": 19,
      "outputs": [
        {
          "output_type": "stream",
          "text": [
            "Epoch 1/50\n",
            "34/34 [==============================] - 2s 23ms/step - loss: 0.0384 - val_loss: 0.0359\n",
            "Epoch 2/50\n",
            "34/34 [==============================] - 0s 4ms/step - loss: 0.0217 - val_loss: 0.0341\n",
            "Epoch 3/50\n",
            "34/34 [==============================] - 0s 4ms/step - loss: 0.0170 - val_loss: 0.0326\n",
            "Epoch 4/50\n",
            "34/34 [==============================] - 0s 4ms/step - loss: 0.0155 - val_loss: 0.0313\n",
            "Epoch 5/50\n",
            "34/34 [==============================] - 0s 3ms/step - loss: 0.0186 - val_loss: 0.0303\n",
            "Epoch 6/50\n",
            "34/34 [==============================] - 0s 4ms/step - loss: 0.0157 - val_loss: 0.0296\n",
            "Epoch 7/50\n",
            "34/34 [==============================] - 0s 3ms/step - loss: 0.0171 - val_loss: 0.0291\n",
            "Epoch 8/50\n",
            "34/34 [==============================] - 0s 3ms/step - loss: 0.0186 - val_loss: 0.0287\n",
            "Epoch 9/50\n",
            "34/34 [==============================] - 0s 4ms/step - loss: 0.0157 - val_loss: 0.0284\n",
            "Epoch 10/50\n",
            "34/34 [==============================] - 0s 4ms/step - loss: 0.0168 - val_loss: 0.0282\n",
            "Epoch 11/50\n",
            "34/34 [==============================] - 0s 4ms/step - loss: 0.0160 - val_loss: 0.0281\n",
            "Epoch 12/50\n",
            "34/34 [==============================] - 0s 4ms/step - loss: 0.0172 - val_loss: 0.0279\n",
            "Epoch 13/50\n",
            "34/34 [==============================] - 0s 4ms/step - loss: 0.0165 - val_loss: 0.0278\n",
            "Epoch 14/50\n",
            "34/34 [==============================] - 0s 4ms/step - loss: 0.0190 - val_loss: 0.0277\n",
            "Epoch 15/50\n",
            "34/34 [==============================] - 0s 4ms/step - loss: 0.0158 - val_loss: 0.0276\n",
            "Epoch 16/50\n",
            "34/34 [==============================] - 0s 4ms/step - loss: 0.0143 - val_loss: 0.0277\n",
            "Epoch 17/50\n",
            "34/34 [==============================] - 0s 4ms/step - loss: 0.0165 - val_loss: 0.0276\n",
            "Epoch 18/50\n",
            "34/34 [==============================] - 0s 4ms/step - loss: 0.0127 - val_loss: 0.0276\n",
            "Epoch 19/50\n",
            "34/34 [==============================] - 0s 4ms/step - loss: 0.0163 - val_loss: 0.0276\n",
            "Epoch 20/50\n",
            "34/34 [==============================] - 0s 4ms/step - loss: 0.0207 - val_loss: 0.0275\n",
            "Epoch 21/50\n",
            "34/34 [==============================] - 0s 4ms/step - loss: 0.0171 - val_loss: 0.0275\n",
            "Epoch 22/50\n",
            "34/34 [==============================] - 0s 4ms/step - loss: 0.0129 - val_loss: 0.0274\n",
            "Epoch 23/50\n",
            "34/34 [==============================] - 0s 4ms/step - loss: 0.0123 - val_loss: 0.0274\n",
            "Epoch 24/50\n",
            "34/34 [==============================] - 0s 4ms/step - loss: 0.0134 - val_loss: 0.0274\n",
            "Epoch 25/50\n",
            "34/34 [==============================] - 0s 4ms/step - loss: 0.0117 - val_loss: 0.0274\n",
            "Epoch 26/50\n",
            "34/34 [==============================] - 0s 4ms/step - loss: 0.0114 - val_loss: 0.0273\n",
            "Epoch 27/50\n",
            "34/34 [==============================] - 0s 4ms/step - loss: 0.0142 - val_loss: 0.0273\n",
            "Epoch 28/50\n",
            "34/34 [==============================] - 0s 4ms/step - loss: 0.0116 - val_loss: 0.0274\n",
            "Epoch 29/50\n",
            "34/34 [==============================] - 0s 3ms/step - loss: 0.0142 - val_loss: 0.0273\n",
            "Epoch 30/50\n",
            "34/34 [==============================] - 0s 3ms/step - loss: 0.0137 - val_loss: 0.0273\n",
            "Epoch 31/50\n",
            "34/34 [==============================] - 0s 3ms/step - loss: 0.0164 - val_loss: 0.0273\n",
            "Epoch 32/50\n",
            "34/34 [==============================] - 0s 4ms/step - loss: 0.0111 - val_loss: 0.0273\n",
            "Epoch 33/50\n",
            "34/34 [==============================] - 0s 4ms/step - loss: 0.0160 - val_loss: 0.0272\n",
            "Epoch 34/50\n",
            "34/34 [==============================] - 0s 4ms/step - loss: 0.0110 - val_loss: 0.0272\n",
            "Epoch 35/50\n",
            "34/34 [==============================] - 0s 4ms/step - loss: 0.0132 - val_loss: 0.0272\n",
            "Epoch 36/50\n",
            "34/34 [==============================] - 0s 3ms/step - loss: 0.0116 - val_loss: 0.0272\n",
            "Epoch 37/50\n",
            "34/34 [==============================] - 0s 3ms/step - loss: 0.0160 - val_loss: 0.0273\n",
            "Epoch 38/50\n",
            "34/34 [==============================] - 0s 4ms/step - loss: 0.0122 - val_loss: 0.0272\n",
            "Epoch 39/50\n",
            "34/34 [==============================] - 0s 4ms/step - loss: 0.0107 - val_loss: 0.0272\n",
            "Epoch 40/50\n",
            "34/34 [==============================] - 0s 4ms/step - loss: 0.0098 - val_loss: 0.0272\n",
            "Epoch 41/50\n",
            "34/34 [==============================] - 0s 3ms/step - loss: 0.0089 - val_loss: 0.0272\n",
            "Epoch 42/50\n",
            "34/34 [==============================] - 0s 3ms/step - loss: 0.0090 - val_loss: 0.0272\n",
            "Epoch 43/50\n",
            "34/34 [==============================] - 0s 4ms/step - loss: 0.0096 - val_loss: 0.0272\n",
            "Epoch 44/50\n",
            "34/34 [==============================] - 0s 4ms/step - loss: 0.0093 - val_loss: 0.0272\n",
            "Epoch 45/50\n",
            "34/34 [==============================] - 0s 4ms/step - loss: 0.0105 - val_loss: 0.0272\n",
            "Epoch 46/50\n",
            "34/34 [==============================] - 0s 4ms/step - loss: 0.0076 - val_loss: 0.0272\n",
            "Epoch 47/50\n",
            "34/34 [==============================] - 0s 4ms/step - loss: 0.0111 - val_loss: 0.0272\n",
            "Epoch 48/50\n",
            "34/34 [==============================] - 0s 4ms/step - loss: 0.0095 - val_loss: 0.0272\n",
            "Epoch 49/50\n",
            "34/34 [==============================] - 0s 4ms/step - loss: 0.0107 - val_loss: 0.0272\n",
            "Epoch 50/50\n",
            "34/34 [==============================] - 0s 4ms/step - loss: 0.0072 - val_loss: 0.0272\n"
          ],
          "name": "stdout"
        }
      ]
    },
    {
      "cell_type": "code",
      "metadata": {
        "colab": {
          "base_uri": "https://localhost:8080/",
          "height": 295
        },
        "id": "MDT5FwBysM3Z",
        "outputId": "3136be0f-f62e-42ab-882c-36a7bb4b024b"
      },
      "source": [
        "plt.plot(history.history[\"loss\"])\n",
        "plt.plot(history.history[\"val_loss\"])\n",
        "plt.title(\"model loss\")\n",
        "plt.ylabel(\"loss\")\n",
        "plt.xlabel(\"epoch\")\n",
        "plt.legend([\"train\", \"test\"], loc=\"upper left\")\n",
        "plt.show()"
      ],
      "id": "MDT5FwBysM3Z",
      "execution_count": 20,
      "outputs": [
        {
          "output_type": "display_data",
          "data": {
            "image/png": "[encoded data removed]",
            "text/plain": [
              "<Figure size 432x288 with 1 Axes>"
            ]
          },
          "metadata": {
            "tags": [],
            "needs_background": "light"
          }
        }
      ]
    },
    {
      "cell_type": "markdown",
      "metadata": {
        "id": "MOQ5eBTVZX-S"
      },
      "source": [
        "#### TESTING MODELO 1"
      ],
      "id": "MOQ5eBTVZX-S"
    },
    {
      "cell_type": "markdown",
      "metadata": {
        "id": "U9cX9WBpwwYN"
      },
      "source": [
        "**Categorias**\n",
        "1. sheers\n",
        "2. whites\n",
        "3. nudes \n",
        "4. pinks \n",
        "5. corals \n",
        "6. reds \n",
        "7. purples\n",
        "8. blues \n",
        "9. greens \n",
        "10. yellows \n",
        "11. grays \n",
        "12. oranges \n",
        "13. browns\n",
        "14. blacks \n",
        "15. coral\n",
        "Las siguientes categorias son seleccionadas random para obtener recomendaciones basadas en ratings y colores"
      ],
      "id": "U9cX9WBpwwYN"
    },
    {
      "cell_type": "code",
      "metadata": {
        "id": "twetfPL1sGRL"
      },
      "source": [
        "#numero de categoria random o seleccionado\n",
        "cat = df.category.sample(1).iloc[0]"
      ],
      "id": "twetfPL1sGRL",
      "execution_count": 21,
      "outputs": []
    },
    {
      "cell_type": "code",
      "metadata": {
        "id": "TRO3t3NLBpru",
        "colab": {
          "base_uri": "https://localhost:8080/"
        },
        "outputId": "4ca75a94-b282-4e81-9bac-3592ed7d868e"
      },
      "source": [
        "np_category = df[df.category == cat]\n",
        "np_not_category = info_np[\n",
        "    ~info_np[\"index\"].isin(np_category.index.values)\n",
        "][\"index\"]\n",
        "np_not_category = list(\n",
        "    set(np_not_category).intersection(set(item2item_encoded.keys()))\n",
        ")\n",
        "np_not_category = [[item2item_encoded.get(x\n",
        ")] for x in np_not_category]\n",
        "user_encoder = user2user_encoded.get(cat)\n",
        "user_item_array = np.hstack(\n",
        "    ([[user_encoder]] * len(np_not_category), np_not_category)\n",
        ")\n",
        "\n",
        "ratings = model.predict(user_item_array).flatten()\n",
        "top_ratings_indices = ratings.argsort()[-10:][::-1]\n",
        "recommended_item_ids = [\n",
        "    item_encoded2item.get(np_not_category[x][0]) for x in top_ratings_indices\n",
        "]\n",
        "\n",
        "print(\"Mas recomendadas categoria: {}\".format(cat))\n",
        "print(\"=\" * 35)\n",
        "top_np_user = (\n",
        "    np_category.sort_values(by=\"weight\", ascending=False)\n",
        "    .head(5)\n",
        "    .index.values\n",
        ")\n",
        "info_np1 = info_np[info_np[\"index\"].isin(top_np_user)]\n",
        "for row in info_np1.itertuples():\n",
        "    print(row.name, \"| categoria:\", row.category,\" | marca:\" ,row.marca)\n",
        "\n",
        "print(\" \" * 35)\n",
        "print(\" \" * 35)\n",
        "print(\"Top 10 recomendaciones\")\n",
        "print(\"----\" * 8)\n",
        "recommended_nailpolish = info_np[info_np[\"index\"].isin(recommended_item_ids)]\n",
        "for row in recommended_nailpolish.itertuples():\n",
        "    print(row.name, \"| categoria:\", row.category,\" | marca:\" ,row.marca)"
      ],
      "id": "TRO3t3NLBpru",
      "execution_count": 25,
      "outputs": [
        {
          "output_type": "stream",
          "text": [
            "Mas recomendadas categoria: 9\n",
            "===================================\n",
            "chillato | categoria: greens  | marca: essie\n",
            "precious cargo-go | categoria: greens  | marca: essie\n",
            "mint candy apple | categoria: greens  | marca: essie\n",
            "mojito medness | categoria: greens  | marca: essie\n",
            "naughty nautical | categoria: greens  | marca: essie\n",
            "                                   \n",
            "                                   \n",
            "Top 10 recomendaciones\n",
            "--------------------------------\n",
            "marshmallow | categoria: sheers  | marca: essie\n",
            "ballet slippers | categoria: sheers  | marca: essie\n",
            "wild nude | categoria: nudes  | marca: essie\n",
            "mod square | categoria: pinks  | marca: essie\n",
            "sheer fantasy | categoria: pinks  | marca: essie\n",
            "watermelon | categoria: pinks  | marca: essie\n",
            "couture curator  | categoria: corals  | marca: essie\n",
            "cute as a button | categoria: corals  | marca: essie\n",
            "wicked | categoria: reds  | marca: essie\n",
            "wicked remix | categoria: reds  | marca: essie\n"
          ],
          "name": "stdout"
        }
      ]
    },
    {
      "cell_type": "markdown",
      "metadata": {
        "id": "mwoeskEwvEo1"
      },
      "source": [
        "### MODELO 2 - SISTEMA DE RECOMENDACION BASADO EN CODIGO RGB"
      ],
      "id": "mwoeskEwvEo1"
    },
    {
      "cell_type": "code",
      "metadata": {
        "id": "t-C28PUcB6jQ",
        "colab": {
          "base_uri": "https://localhost:8080/"
        },
        "outputId": "c198e9a9-da86-4723-84be-ece493dd0a15"
      },
      "source": [
        "history = model.fit(\n",
        "    x=x_train2,\n",
        "    y=y_train2,\n",
        "    batch_size=10,\n",
        "    epochs=50,\n",
        "    verbose=1,\n",
        "    validation_data=(x_cv2, y_cv2),\n",
        ")"
      ],
      "id": "t-C28PUcB6jQ",
      "execution_count": 26,
      "outputs": [
        {
          "output_type": "stream",
          "text": [
            "Epoch 1/50\n",
            "34/34 [==============================] - 0s 5ms/step - loss: 0.0975 - val_loss: 0.0655\n",
            "Epoch 2/50\n",
            "34/34 [==============================] - 0s 4ms/step - loss: 0.0893 - val_loss: 0.0654\n",
            "Epoch 3/50\n",
            "34/34 [==============================] - 0s 4ms/step - loss: 0.0808 - val_loss: 0.0654\n",
            "Epoch 4/50\n",
            "34/34 [==============================] - 0s 4ms/step - loss: 0.0773 - val_loss: 0.0654\n",
            "Epoch 5/50\n",
            "34/34 [==============================] - 0s 4ms/step - loss: 0.0685 - val_loss: 0.0655\n",
            "Epoch 6/50\n",
            "34/34 [==============================] - 0s 4ms/step - loss: 0.0667 - val_loss: 0.0655\n",
            "Epoch 7/50\n",
            "34/34 [==============================] - 0s 4ms/step - loss: 0.0613 - val_loss: 0.0654\n",
            "Epoch 8/50\n",
            "34/34 [==============================] - 0s 4ms/step - loss: 0.0547 - val_loss: 0.0654\n",
            "Epoch 9/50\n",
            "34/34 [==============================] - 0s 3ms/step - loss: 0.0586 - val_loss: 0.0654\n",
            "Epoch 10/50\n",
            "34/34 [==============================] - 0s 3ms/step - loss: 0.0520 - val_loss: 0.0654\n",
            "Epoch 11/50\n",
            "34/34 [==============================] - 0s 3ms/step - loss: 0.0501 - val_loss: 0.0653\n",
            "Epoch 12/50\n",
            "34/34 [==============================] - 0s 3ms/step - loss: 0.0486 - val_loss: 0.0654\n",
            "Epoch 13/50\n",
            "34/34 [==============================] - 0s 4ms/step - loss: 0.0487 - val_loss: 0.0654\n",
            "Epoch 14/50\n",
            "34/34 [==============================] - 0s 3ms/step - loss: 0.0447 - val_loss: 0.0654\n",
            "Epoch 15/50\n",
            "34/34 [==============================] - 0s 3ms/step - loss: 0.0429 - val_loss: 0.0654\n",
            "Epoch 16/50\n",
            "34/34 [==============================] - 0s 4ms/step - loss: 0.0426 - val_loss: 0.0653\n",
            "Epoch 17/50\n",
            "34/34 [==============================] - 0s 4ms/step - loss: 0.0415 - val_loss: 0.0653\n",
            "Epoch 18/50\n",
            "34/34 [==============================] - 0s 4ms/step - loss: 0.0402 - val_loss: 0.0652\n",
            "Epoch 19/50\n",
            "34/34 [==============================] - 0s 4ms/step - loss: 0.0382 - val_loss: 0.0653\n",
            "Epoch 20/50\n",
            "34/34 [==============================] - 0s 3ms/step - loss: 0.0349 - val_loss: 0.0653\n",
            "Epoch 21/50\n",
            "34/34 [==============================] - 0s 4ms/step - loss: 0.0357 - val_loss: 0.0652\n",
            "Epoch 22/50\n",
            "34/34 [==============================] - 0s 3ms/step - loss: 0.0342 - val_loss: 0.0653\n",
            "Epoch 23/50\n",
            "34/34 [==============================] - 0s 4ms/step - loss: 0.0347 - val_loss: 0.0653\n",
            "Epoch 24/50\n",
            "34/34 [==============================] - 0s 4ms/step - loss: 0.0328 - val_loss: 0.0652\n",
            "Epoch 25/50\n",
            "34/34 [==============================] - 0s 3ms/step - loss: 0.0322 - val_loss: 0.0653\n",
            "Epoch 26/50\n",
            "34/34 [==============================] - 0s 4ms/step - loss: 0.0320 - val_loss: 0.0653\n",
            "Epoch 27/50\n",
            "34/34 [==============================] - 0s 4ms/step - loss: 0.0310 - val_loss: 0.0653\n",
            "Epoch 28/50\n",
            "34/34 [==============================] - 0s 4ms/step - loss: 0.0298 - val_loss: 0.0653\n",
            "Epoch 29/50\n",
            "34/34 [==============================] - 0s 4ms/step - loss: 0.0284 - val_loss: 0.0652\n",
            "Epoch 30/50\n",
            "34/34 [==============================] - 0s 4ms/step - loss: 0.0294 - val_loss: 0.0652\n",
            "Epoch 31/50\n",
            "34/34 [==============================] - 0s 3ms/step - loss: 0.0283 - val_loss: 0.0652\n",
            "Epoch 32/50\n",
            "34/34 [==============================] - 0s 5ms/step - loss: 0.0283 - val_loss: 0.0653\n",
            "Epoch 33/50\n",
            "34/34 [==============================] - 0s 4ms/step - loss: 0.0274 - val_loss: 0.0653\n",
            "Epoch 34/50\n",
            "34/34 [==============================] - 0s 4ms/step - loss: 0.0260 - val_loss: 0.0653\n",
            "Epoch 35/50\n",
            "34/34 [==============================] - 0s 4ms/step - loss: 0.0261 - val_loss: 0.0653\n",
            "Epoch 36/50\n",
            "34/34 [==============================] - 0s 4ms/step - loss: 0.0257 - val_loss: 0.0653\n",
            "Epoch 37/50\n",
            "34/34 [==============================] - 0s 4ms/step - loss: 0.0259 - val_loss: 0.0652\n",
            "Epoch 38/50\n",
            "34/34 [==============================] - 0s 4ms/step - loss: 0.0244 - val_loss: 0.0653\n",
            "Epoch 39/50\n",
            "34/34 [==============================] - 0s 4ms/step - loss: 0.0236 - val_loss: 0.0653\n",
            "Epoch 40/50\n",
            "34/34 [==============================] - 0s 4ms/step - loss: 0.0224 - val_loss: 0.0653\n",
            "Epoch 41/50\n",
            "34/34 [==============================] - 0s 4ms/step - loss: 0.0231 - val_loss: 0.0653\n",
            "Epoch 42/50\n",
            "34/34 [==============================] - 0s 4ms/step - loss: 0.0228 - val_loss: 0.0653\n",
            "Epoch 43/50\n",
            "34/34 [==============================] - 0s 3ms/step - loss: 0.0223 - val_loss: 0.0653\n",
            "Epoch 44/50\n",
            "34/34 [==============================] - 0s 4ms/step - loss: 0.0206 - val_loss: 0.0653\n",
            "Epoch 45/50\n",
            "34/34 [==============================] - 0s 4ms/step - loss: 0.0218 - val_loss: 0.0653\n",
            "Epoch 46/50\n",
            "34/34 [==============================] - 0s 4ms/step - loss: 0.0204 - val_loss: 0.0653\n",
            "Epoch 47/50\n",
            "34/34 [==============================] - 0s 4ms/step - loss: 0.0214 - val_loss: 0.0654\n",
            "Epoch 48/50\n",
            "34/34 [==============================] - 0s 4ms/step - loss: 0.0205 - val_loss: 0.0654\n",
            "Epoch 49/50\n",
            "34/34 [==============================] - 0s 4ms/step - loss: 0.0196 - val_loss: 0.0653\n",
            "Epoch 50/50\n",
            "34/34 [==============================] - 0s 4ms/step - loss: 0.0197 - val_loss: 0.0653\n"
          ],
          "name": "stdout"
        }
      ]
    },
    {
      "cell_type": "code",
      "metadata": {
        "id": "dmTUXJ9JFDkJ",
        "colab": {
          "base_uri": "https://localhost:8080/",
          "height": 295
        },
        "outputId": "2a95b356-21bc-4273-f88b-b16bb15cd184"
      },
      "source": [
        "plt.plot(history.history[\"loss\"])\n",
        "plt.plot(history.history[\"val_loss\"])\n",
        "plt.title(\"model loss\")\n",
        "plt.ylabel(\"loss\")\n",
        "plt.xlabel(\"epoch\")\n",
        "plt.legend([\"train\", \"test\"], loc=\"upper left\")\n",
        "plt.show()"
      ],
      "id": "dmTUXJ9JFDkJ",
      "execution_count": 27,
      "outputs": [
        {
          "output_type": "display_data",
          "data": {
            "image/png": "[encoded data removed]",
            "text/plain": [
              "<Figure size 432x288 with 1 Axes>"
            ]
          },
          "metadata": {
            "tags": [],
            "needs_background": "light"
          }
        }
      ]
    },
    {
      "cell_type": "markdown",
      "metadata": {
        "id": "rlrtfT9MqtNK"
      },
      "source": [
        "#### TESTING MODELO 2"
      ],
      "id": "rlrtfT9MqtNK"
    },
    {
      "cell_type": "code",
      "metadata": {
        "colab": {
          "base_uri": "https://localhost:8080/"
        },
        "id": "MWDSn8PVvg-T",
        "outputId": "a6fc857f-e409-453e-e5f9-2d01f932c5cf"
      },
      "source": [
        "ratings = model.predict(user_item_array).flatten()\n",
        "top_ratings_indices = ratings.argsort()[-10:][::-1]\n",
        "recommended_item_ids = [\n",
        "    item_encoded2item.get(np_not_category[x][0]) for x in top_ratings_indices\n",
        "]\n",
        "\n",
        "print(\"Mas recomendadas color mas cercano: {}\".format(cat))\n",
        "print(\"=\" * 35)\n",
        "\n",
        "top_item_user = (\n",
        "    np_category.sort_values(by=\"color\", ascending=False)\n",
        "    .head(5)\n",
        "    .index.values\n",
        ")\n",
        "info_np1 = info_np[info_np[\"index\"].isin(top_item_user)]\n",
        "for row in info_np1.itertuples():\n",
        "    print(row.name, \"| categoria:\", row.category,\" | marca:\" ,row.marca)\n",
        "\n",
        "print(\" \" * 35)\n",
        "print(\" \" * 35)\n",
        "print(\"Top 10 recomendaciones color\")\n",
        "print(\"----\" * 8)\n",
        "\n",
        "recommended_nailpolish = info_np[info_np[\"index\"].isin(recommended_item_ids)]\n",
        "for row in recommended_nailpolish.itertuples():\n",
        "    print(row.name, \"| categoria:\", row.category,\" | marca:\" ,row.marca)"
      ],
      "id": "MWDSn8PVvg-T",
      "execution_count": 32,
      "outputs": [
        {
          "output_type": "stream",
          "text": [
            "Mas recomendadas color mas cercano: 9\n",
            "===================================\n",
            "chillato | categoria: greens  | marca: essie\n",
            "seas the day | categoria: greens  | marca: essie\n",
            "peppermint condition | categoria: greens  | marca: essie\n",
            "express to impress | categoria: greens  | marca: essie\n",
            "smoldering teal | categoria: greens  | marca: sally hansen\n",
            "                                   \n",
            "                                   \n",
            "Top 10 recomendaciones color\n",
            "--------------------------------\n",
            "marshmallow | categoria: sheers  | marca: essie\n",
            "blanc | categoria: whites  | marca: essie\n",
            "diamond in the cuff | categoria: whites  | marca: essie\n",
            "ballet slippers remixed | categoria: pinks  | marca: essie\n",
            "matter of fiction | categoria: pinks  | marca: essie\n",
            "romper room  | categoria: pinks  | marca: essie\n",
            "muchi, muchi | categoria: pinks  | marca: essie\n",
            "sheer fantasy | categoria: pinks  | marca: essie\n",
            "couture curator  | categoria: corals  | marca: essie\n",
            "lilacism | categoria: purples  | marca: essie\n"
          ],
          "name": "stdout"
        }
      ]
    }
  ]
}